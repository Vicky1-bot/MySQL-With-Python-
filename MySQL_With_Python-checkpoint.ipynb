{
 "cells": [
  {
   "cell_type": "code",
   "execution_count": null,
   "id": "67abddfb",
   "metadata": {},
   "outputs": [],
   "source": [
    "# creating MYSQL connection"
   ]
  },
  {
   "cell_type": "code",
   "execution_count": 3,
   "id": "27da5c31",
   "metadata": {},
   "outputs": [
    {
     "name": "stdout",
     "output_type": "stream",
     "text": [
      "<mysql.connector.connection_cext.CMySQLConnection object at 0x000001A588C6C2B0>\n"
     ]
    }
   ],
   "source": [
    "### Create MySQL Connection\n",
    "import mysql.connector as sql\n",
    "\n",
    "connection = sql.connect(\n",
    "  host=\"localhost\",\n",
    "  user=\"root\",\n",
    "  password=\"MySQL123\"\n",
    ")\n",
    "\n",
    "print(connection)"
   ]
  },
  {
   "cell_type": "code",
   "execution_count": null,
   "id": "4c7f48f7",
   "metadata": {},
   "outputs": [],
   "source": [
    "#Creating Databases"
   ]
  },
  {
   "cell_type": "code",
   "execution_count": 4,
   "id": "718d05a0",
   "metadata": {},
   "outputs": [],
   "source": [
    "cursor =connection.cursor()\n",
    "cursor.execute(\"CREATE DATABASE student1\")"
   ]
  },
  {
   "cell_type": "code",
   "execution_count": 5,
   "id": "f5397b62",
   "metadata": {},
   "outputs": [],
   "source": [
    "cursor.execute('SHOW DATABASES')"
   ]
  },
  {
   "cell_type": "code",
   "execution_count": 6,
   "id": "8103930d",
   "metadata": {},
   "outputs": [
    {
     "name": "stdout",
     "output_type": "stream",
     "text": [
      "('information_schema',)\n",
      "('mysql',)\n",
      "('performance_schema',)\n",
      "('sakila',)\n",
      "('sreekanth123',)\n",
      "('sreekanth1234',)\n",
      "('student1',)\n",
      "('sys',)\n",
      "('world',)\n"
     ]
    }
   ],
   "source": [
    "for database in cursor:\n",
    "    print(database)"
   ]
  },
  {
   "cell_type": "code",
   "execution_count": null,
   "id": "d3c4f31c",
   "metadata": {},
   "outputs": [],
   "source": []
  },
  {
   "cell_type": "code",
   "execution_count": null,
   "id": "4d124968",
   "metadata": {},
   "outputs": [],
   "source": [
    " ## Creating Tables And Inserting Records"
   ]
  },
  {
   "cell_type": "code",
   "execution_count": 7,
   "id": "2b961243",
   "metadata": {},
   "outputs": [
    {
     "name": "stdout",
     "output_type": "stream",
     "text": [
      "<mysql.connector.connection_cext.CMySQLConnection object at 0x000001A588C6FC10>\n"
     ]
    }
   ],
   "source": [
    "### Create MySQL Connection And Connect\n",
    "import mysql.connector as sql\n",
    "\n",
    "connection = sql.connect(\n",
    "  host=\"localhost\",\n",
    "  user=\"root\",\n",
    "  password=\"MySQL123\",\n",
    "  database=\"student1\"\n",
    ")\n",
    "\n",
    "print(connection)"
   ]
  },
  {
   "cell_type": "code",
   "execution_count": null,
   "id": "307247cf",
   "metadata": {},
   "outputs": [],
   "source": [
    "## Create Table in MySQL using Python"
   ]
  },
  {
   "cell_type": "code",
   "execution_count": 8,
   "id": "840066ba",
   "metadata": {},
   "outputs": [],
   "source": [
    "cursor = connection.cursor()\n",
    "\n",
    "cursor.execute(\"CREATE TABLE studentinfo (id INT AUTO_INCREMENT PRIMARY KEY, name VARCHAR(255), subject VARCHAR(255))\")"
   ]
  },
  {
   "cell_type": "code",
   "execution_count": null,
   "id": "8fd515cd",
   "metadata": {},
   "outputs": [],
   "source": [
    "## Insert Records in Table"
   ]
  },
  {
   "cell_type": "code",
   "execution_count": 9,
   "id": "62b8b658",
   "metadata": {},
   "outputs": [
    {
     "name": "stdout",
     "output_type": "stream",
     "text": [
      "Row inserted 1\n"
     ]
    }
   ],
   "source": [
    "query = \"INSERT INTO studentinfo (name, subject) VALUES (%s, %s)\"\n",
    "value = (\"John\", \"Stats\")\n",
    "cursor.execute(query,value)\n",
    "print(\"Row inserted\",cursor.lastrowid)"
   ]
  },
  {
   "cell_type": "code",
   "execution_count": 10,
   "id": "334dae47",
   "metadata": {},
   "outputs": [
    {
     "name": "stdout",
     "output_type": "stream",
     "text": [
      "Row inserted 2\n"
     ]
    }
   ],
   "source": [
    "### Insert multiple records in Table\n",
    "query = \"INSERT INTO studentinfo (name, subject) VALUES (%s, %s)\"\n",
    "values = [(\"Krish\", \"Stats\"),\n",
    "        (\"Joe\", \"Maths\"),\n",
    "        (\"Ankur\",\"Data Science\"),\n",
    "        (\"Paul\",\"Data Science\"),\n",
    "        (\"Vishal\",\"Maths\"),\n",
    "        (\"Krish\",\"Data Science\")]\n",
    "cursor.executemany(query,values)\n",
    "print(\"Row inserted\",cursor.lastrowid)"
   ]
  },
  {
   "cell_type": "code",
   "execution_count": null,
   "id": "7897a2a0",
   "metadata": {},
   "outputs": [],
   "source": [
    "## Select all"
   ]
  },
  {
   "cell_type": "code",
   "execution_count": 27,
   "id": "97f0e989",
   "metadata": {},
   "outputs": [],
   "source": [
    "cursor=connection.cursor()\n",
    "query=\"Select * from studentinfo\"\n",
    "cursor.execute(query)"
   ]
  },
  {
   "cell_type": "code",
   "execution_count": 28,
   "id": "8e5c3eba",
   "metadata": {},
   "outputs": [
    {
     "data": {
      "text/plain": [
       "[(1, 'John', 'Stats'),\n",
       " (2, 'Krish', 'Stats'),\n",
       " (3, 'Joe', 'Maths'),\n",
       " (4, 'Ankur', 'Data Science'),\n",
       " (5, 'Paul', 'Data Science'),\n",
       " (6, 'Vishal', 'Maths'),\n",
       " (7, 'Krish', 'Data Science')]"
      ]
     },
     "execution_count": 28,
     "metadata": {},
     "output_type": "execute_result"
    }
   ],
   "source": [
    "cursor.fetchall()"
   ]
  },
  {
   "cell_type": "code",
   "execution_count": 29,
   "id": "6f8e8a1b",
   "metadata": {},
   "outputs": [],
   "source": [
    "cursor.fetchone()"
   ]
  },
  {
   "cell_type": "code",
   "execution_count": 30,
   "id": "a84b6d1d",
   "metadata": {},
   "outputs": [],
   "source": [
    "lst=cursor.fetchall()"
   ]
  },
  {
   "cell_type": "code",
   "execution_count": 31,
   "id": "b68de187",
   "metadata": {},
   "outputs": [],
   "source": [
    "lst=cursor.fetchall()\n",
    "for records in lst:\n",
    "    print(records)"
   ]
  },
  {
   "cell_type": "code",
   "execution_count": null,
   "id": "3f088c38",
   "metadata": {},
   "outputs": [],
   "source": [
    "## Selecting Particular Rows"
   ]
  },
  {
   "cell_type": "code",
   "execution_count": 33,
   "id": "b52a192e",
   "metadata": {},
   "outputs": [],
   "source": [
    "cursor.execute(\"Select * from studentinfo where name='Krish'\")"
   ]
  },
  {
   "cell_type": "code",
   "execution_count": 34,
   "id": "b4edf3b5",
   "metadata": {},
   "outputs": [
    {
     "data": {
      "text/plain": [
       "[(2, 'Krish', 'Stats'), (7, 'Krish', 'Data Science')]"
      ]
     },
     "execution_count": 34,
     "metadata": {},
     "output_type": "execute_result"
    }
   ],
   "source": [
    "### Fetch All the Data\n",
    "cursor.fetchall()"
   ]
  },
  {
   "cell_type": "code",
   "execution_count": null,
   "id": "5d8b5643",
   "metadata": {},
   "outputs": [],
   "source": [
    "## selecting Particular columns"
   ]
  },
  {
   "cell_type": "code",
   "execution_count": 35,
   "id": "acb294f3",
   "metadata": {},
   "outputs": [
    {
     "data": {
      "text/plain": [
       "[('Stats',),\n",
       " ('Stats',),\n",
       " ('Maths',),\n",
       " ('Data Science',),\n",
       " ('Data Science',),\n",
       " ('Maths',),\n",
       " ('Data Science',)]"
      ]
     },
     "execution_count": 35,
     "metadata": {},
     "output_type": "execute_result"
    }
   ],
   "source": [
    "cursor.execute(\"Select subject from studentinfo\")\n",
    "#### Fetch All\n",
    "cursor.fetchall()"
   ]
  },
  {
   "cell_type": "code",
   "execution_count": 36,
   "id": "07b5ddd3",
   "metadata": {},
   "outputs": [
    {
     "data": {
      "text/plain": [
       "[('Stats',), ('Maths',), ('Data Science',)]"
      ]
     },
     "execution_count": 36,
     "metadata": {},
     "output_type": "execute_result"
    }
   ],
   "source": [
    "## Select Distinct Columns\n",
    "cursor.execute(\"SELECT DISTINCT subject from studentinfo\")\n",
    "#### Fetch All\n",
    "cursor.fetchall()"
   ]
  },
  {
   "cell_type": "code",
   "execution_count": 37,
   "id": "500df273",
   "metadata": {},
   "outputs": [
    {
     "data": {
      "text/plain": [
       "[('Krish', 'Stats'),\n",
       " ('Ankur', 'Data Science'),\n",
       " ('Paul', 'Data Science'),\n",
       " ('Krish', 'Data Science')]"
      ]
     },
     "execution_count": 37,
     "metadata": {},
     "output_type": "execute_result"
    }
   ],
   "source": [
    "cursor.execute(\"SELECT name, subject FROM studentinfo WHERE name = 'Krish' OR subject = 'Data Science'\") \n",
    "#### Fetch All\n",
    "cursor.fetchall()"
   ]
  },
  {
   "cell_type": "code",
   "execution_count": null,
   "id": "f5865edb",
   "metadata": {},
   "outputs": [],
   "source": [
    "### Drop Table"
   ]
  },
  {
   "cell_type": "code",
   "execution_count": null,
   "id": "25ca1556",
   "metadata": {},
   "outputs": [],
   "source": [
    "cursor.execute(\"DROP TABLE studentinfo\")"
   ]
  },
  {
   "cell_type": "code",
   "execution_count": null,
   "id": "f9e7fde3",
   "metadata": {},
   "outputs": [],
   "source": []
  }
 ],
 "metadata": {
  "kernelspec": {
   "display_name": "Python 3",
   "language": "python",
   "name": "python3"
  },
  "language_info": {
   "codemirror_mode": {
    "name": "ipython",
    "version": 3
   },
   "file_extension": ".py",
   "mimetype": "text/x-python",
   "name": "python",
   "nbconvert_exporter": "python",
   "pygments_lexer": "ipython3",
   "version": "3.8.8"
  }
 },
 "nbformat": 4,
 "nbformat_minor": 5
}
